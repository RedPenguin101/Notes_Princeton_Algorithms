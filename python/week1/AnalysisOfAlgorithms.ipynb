{
 "cells": [
  {
   "cell_type": "markdown",
   "metadata": {},
   "source": [
    "# Analysis of algorithms\n",
    "\n",
    "A scientific basis for algorithm performance\n",
    "\n",
    "* How to observe\n",
    "* Mathematical models\n",
    "* Big O (order of growth) classifications\n",
    "* Theory of algorithms\n",
    "* memory usage\n",
    "\n",
    "Programmer needs to develop a solution, client wants to solve the problem, theoretician wants to understand. We cover a bit of each.\n",
    "\n",
    "Running time is the key lense.\n",
    "\n",
    "Why analyse? Performance prediction, provide guarantees - will it solve the business problem in the required time? \n",
    "\n",
    "Sucess stories: \n",
    "* discrete fourier transform (FFT) - breaking down a waveform. Can do brute force in N^2, FFT does it N log N, enables new tech\n",
    "* N-body simulation - again N^2 to N log N.\n",
    "\n",
    "Will my program be able to handle large inputs? Insight: We can use the scientific method to understand this: Observe, Hypothesize, Predict, Verify, Validate.\n",
    "\n",
    "Because science, we want results to be reproducible, hypothesis to be falsifiable."
   ]
  },
  {
   "cell_type": "code",
   "execution_count": 77,
   "metadata": {},
   "outputs": [
    {
     "data": {
      "text/plain": [
       "50171.66594399687"
      ]
     },
     "execution_count": 77,
     "metadata": {},
     "output_type": "execute_result"
    }
   ],
   "source": [
    "import math\n",
    "import time\n",
    "import random\n",
    "\n",
    "n = 1000000 \n",
    "a = n ** 2\n",
    "b = n * math.log(n, 2)\n",
    "\n",
    "a/b\n",
    "\n",
    "# N log N is approximately 50,000 times faster than N^2"
   ]
  },
  {
   "cell_type": "markdown",
   "metadata": {},
   "source": [
    "## Observations\n",
    "\n",
    "Easy! Just time it\n",
    "\n",
    "Use the 3 sum problem: Given N distinct integers, how many triples sum to exactly zero.\n",
    "\n",
    "Important for computational geometry!\n",
    "\n",
    "The algorithm is a 3 deep loop"
   ]
  },
  {
   "cell_type": "code",
   "execution_count": 84,
   "metadata": {},
   "outputs": [],
   "source": [
    "def three_sum(integers):\n",
    "    count = 0\n",
    "    \n",
    "    for a in integers:\n",
    "        integers.remove(a)\n",
    "        newlist = integers.copy()\n",
    "        for b in newlist:\n",
    "            newlist.remove(b)\n",
    "            for c in newlist:\n",
    "                if a + b + c == 0:\n",
    "                    count += 1\n",
    "    \n",
    "    return count\n",
    "\n",
    "def time_three_sum(n):\n",
    "    a = random.sample(range(-n, n), k=n)\n",
    "    start = time.time()\n",
    "    three_sum(a)\n",
    "    return format(time.time() - start, '.3f')"
   ]
  },
  {
   "cell_type": "code",
   "execution_count": 85,
   "metadata": {},
   "outputs": [
    {
     "data": {
      "text/plain": [
       "4"
      ]
     },
     "execution_count": 85,
     "metadata": {},
     "output_type": "execute_result"
    }
   ],
   "source": [
    "a = [30, -40, -20, -10, 40, 0, 10, 5]\n",
    "three_sum(a)"
   ]
  },
  {
   "cell_type": "code",
   "execution_count": 87,
   "metadata": {},
   "outputs": [
    {
     "data": {
      "text/plain": [
       "'0.905'"
      ]
     },
     "execution_count": 87,
     "metadata": {},
     "output_type": "execute_result"
    }
   ],
   "source": [
    "time_three_sum(500)"
   ]
  },
  {
   "cell_type": "code",
   "execution_count": null,
   "metadata": {},
   "outputs": [],
   "source": []
  }
 ],
 "metadata": {
  "kernelspec": {
   "display_name": "Python 3",
   "language": "python",
   "name": "python3"
  },
  "language_info": {
   "codemirror_mode": {
    "name": "ipython",
    "version": 3
   },
   "file_extension": ".py",
   "mimetype": "text/x-python",
   "name": "python",
   "nbconvert_exporter": "python",
   "pygments_lexer": "ipython3",
   "version": "3.6.9"
  }
 },
 "nbformat": 4,
 "nbformat_minor": 4
}

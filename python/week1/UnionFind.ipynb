{
 "cells": [
  {
   "cell_type": "markdown",
   "metadata": {},
   "source": [
    "# Union Find\n",
    "\n",
    "As applied to the dynamic connectivity problem. \n",
    "\n",
    "* quick find\n",
    "* quick union\n",
    "* weighted QU\n",
    "* weighted QU with path compression \n",
    "\n",
    "## Dynamic connectivity\n",
    "\n",
    "Given a set of __nodes__ 0 to N-1, and various paths __connecting__ those nodes, are nodes p and q connected?\n",
    "\n",
    "Connections are:\n",
    "* reflexive (p C p)\n",
    "* symmetric (p C q iff q C p)\n",
    "* transitive (p C q and q C r => p C r)\n",
    "\n",
    "a set of connected nodes form a __connected component__\n",
    "\n",
    "`{0} {1 4 5} {2 3 6 7}`\n",
    "\n",
    "### API\n",
    "\n",
    "* UF(N): initialise a UF datastructure with n nodes\n",
    "* union(p q): add connection between p and q\n",
    "* connected(p q): are p and q connected?\n",
    "* find(q): component identifier\n",
    "* count(): number of components"
   ]
  },
  {
   "cell_type": "markdown",
   "metadata": {},
   "source": [
    "## Quick Find\n",
    "\n",
    "An eager approach.\n",
    "\n",
    "Data structure: an array of integers `id`. p and q are connected iff they have the same id.\n",
    "\n",
    "* connected: check if p and q have the same id\n",
    "* union: change all entries whose id equals `id[p]` to `id[q]`"
   ]
  },
  {
   "cell_type": "code",
   "execution_count": 21,
   "metadata": {},
   "outputs": [
    {
     "name": "stdout",
     "output_type": "stream",
     "text": [
      "True\n",
      "False\n"
     ]
    }
   ],
   "source": [
    "class QuickFind:\n",
    "    def __init__(self, n):\n",
    "        self.ids = [i for i in range(n)]\n",
    "        \n",
    "    def connected(self, p, q):\n",
    "        return self.ids[p] == self.ids[q]\n",
    "    \n",
    "    def union(self, p, q):\n",
    "        old = self.ids[p]\n",
    "        new = self.ids[q]\n",
    "        \n",
    "        for i in range(len(self.ids)):\n",
    "            if self.ids[i] == old:\n",
    "                self.ids[i] = new\n",
    "        \n",
    "qf = QuickFind(10)\n",
    "qf.union(0, 1)\n",
    "qf.union(1, 2)\n",
    "print(qf.connected(0, 2))\n",
    "print(qf.connected(0, 3))"
   ]
  },
  {
   "cell_type": "markdown",
   "metadata": {},
   "source": [
    "### Quick find performance\n",
    "\n",
    "* construction: set the array entry to itself: N array accesses\n",
    "* connected: 2 array accesses\n",
    "* union: change all all entries with id[p] to id[q] - max 2N + 2 accesses (why?)\n",
    "\n",
    "This is TOO SLOW. N^2 array accesses to process N union commands on N objects"
   ]
  },
  {
   "cell_type": "markdown",
   "metadata": {},
   "source": [
    "## Quick Union\n",
    "\n",
    "Data structure is again an array, but we use it to represent a tree, where the array entry `id[i]` is the __parent__ node of node i.\n",
    "\n",
    "__root__ of i is `id[id[id[...id[i]...]]]` (keep going until id[i] = i, i.e. a node is its own parent)\n",
    "\n",
    "```\n",
    "     0 1 2 3 4 5 6 7 8 9\n",
    "id[] 0 1 9 4 9 6 6 7 8 9\n",
    "\n",
    "\n",
    "0  1  9    6  7  8 \n",
    "      /\\   |\n",
    "     2  4  5\n",
    "        |\n",
    "        3\n",
    "```\n",
    "\n",
    "connected: check if root of p and root of q are the same\n",
    "\n",
    "union: set the id of p's root to the id of q's root"
   ]
  },
  {
   "cell_type": "code",
   "execution_count": 50,
   "metadata": {},
   "outputs": [
    {
     "name": "stdout",
     "output_type": "stream",
     "text": [
      "[0, 1, 2, 3, 4, 5, 6, 7, 8, 9]\n",
      "[0, 1, 9, 4, 9, 6, 6, 7, 8, 6]\n",
      "True\n",
      "False\n"
     ]
    }
   ],
   "source": [
    "class QuickUnion:\n",
    "    def __init__(self, n):\n",
    "        self.ids = [i for i in range(n)]\n",
    "        \n",
    "    def root(self, p):\n",
    "        i = self.ids[p]\n",
    "        \n",
    "        while i != self.ids[i]:\n",
    "            i = self.ids[i]\n",
    "            \n",
    "        return i\n",
    "        \n",
    "    def connected(self, p, q):\n",
    "        return self.root(p) == self.root(q)\n",
    "    \n",
    "    def union(self, p, q):\n",
    "        old_root = self.root(p)\n",
    "        new_root = self.root(q)\n",
    "        \n",
    "        self.ids[old_root] = new_root\n",
    "        \n",
    "qu = QuickUnion(10)\n",
    "print(qu.ids)\n",
    "qu.union(2, 9)\n",
    "qu.union(3, 4)\n",
    "qu.union(4, 9)\n",
    "qu.union(5, 6)\n",
    "qu.union(9, 6)\n",
    "print(qu.ids)\n",
    "print(qu.connected(3, 2))\n",
    "print(qu.connected(6, 7))"
   ]
  },
  {
   "cell_type": "markdown",
   "metadata": {},
   "source": [
    "### Quick union performance\n",
    "\n",
    "* construction: same as before: N array accesses\n",
    "* root: x accesses, where x is the depth of the path (i.e. N in the worst case)\n",
    "* connected: x + y accesses, where x and y are the depths of the two paths\n",
    "* union: x + y accesses, where x and y are the depths of the two paths\n",
    "\n",
    "| algorithm   | init | union | find |\n",
    "|-------------|------|-------|------|\n",
    "| Quickfind   |  N   |   N   |  1   |\n",
    "| QuickUnion  |  N   |   N   |  N   |\n",
    "\n",
    "\n",
    "This is still TOO SLOW. Union is faster than QF, but find is slower.\n",
    "\n",
    "The problem is that when trees can get tall, and that makes both union and find more expensive. We can mitigate that by weighting the tree"
   ]
  },
  {
   "cell_type": "markdown",
   "metadata": {},
   "source": [
    "## Weighted quick union\n",
    "\n",
    "We want to make each tree as 'short' as possible. When we union two trees together, the one that is attached, the 'depth' of every node is increased by one. So we can minimise the overall increase in tree depth when we union by attaching the tree the the fewer nodes to the one with most.\n",
    "\n",
    "We keep track of the size of each tree with another array."
   ]
  },
  {
   "cell_type": "code",
   "execution_count": 57,
   "metadata": {},
   "outputs": [
    {
     "name": "stdout",
     "output_type": "stream",
     "text": [
      "[0, 1, 2, 3, 4, 5, 6, 7, 8, 9]\n",
      "True\n",
      "False\n",
      "[0, 1, 3, 3, 3, 3, 5, 7, 8, 2]\n",
      "[1, 1, 2, 6, 1, 2, 1, 1, 1, 1]\n"
     ]
    }
   ],
   "source": [
    "class WeightedQuickUnion:\n",
    "    def __init__(self, n):\n",
    "        self.parents = [i for i in range(n)]\n",
    "        self.size = [1 for i in range(n)]\n",
    "        \n",
    "    def root(self, p):\n",
    "        i = self.parents[p]\n",
    "        \n",
    "        while i != self.parents[i]:\n",
    "            i = self.parents[i]\n",
    "            \n",
    "        return i\n",
    "        \n",
    "    def connected(self, p, q):\n",
    "        return self.root(p) == self.root(q)\n",
    "    \n",
    "    def union(self, p, q):\n",
    "        p_root = self.root(p)\n",
    "        q_root = self.root(q)\n",
    "        \n",
    "        if p_root == q_root:\n",
    "            pass\n",
    "        \n",
    "        if self.size[p_root] < self.size[q_root]:\n",
    "            self.parents[p_root] = q_root\n",
    "            self.size[q_root] += self.size[p_root]\n",
    "        else:\n",
    "            self.parents[q_root] = p_root\n",
    "            self.size[p_root] += self.size[q_root]\n",
    "        \n",
    "qu = WeightedQuickUnion(10)\n",
    "print(qu.parents)\n",
    "qu.union(2, 9)\n",
    "qu.union(3, 4)\n",
    "qu.union(4, 9)\n",
    "qu.union(5, 6)\n",
    "qu.union(9, 6)\n",
    "print(qu.connected(3, 2))\n",
    "print(qu.connected(6, 7))\n",
    "print(qu.parents)\n",
    "print(qu.size)"
   ]
  },
  {
   "cell_type": "markdown",
   "metadata": {},
   "source": [
    "What we've done is limit the max depth of any node to `lg N` (where lg is base 2 logarithm)\n",
    "\n",
    "\n",
    "| algorithm   | init | union | find |\n",
    "|-------------|------|-------|------|\n",
    "| Quickfind   |  N   |   N   |  1   |\n",
    "| QuickUnion  |  N   |   N   |  N   |\n",
    "| WeightedQuickUnion  |  N   |   lg N   |  lg N   |"
   ]
  },
  {
   "cell_type": "markdown",
   "metadata": {},
   "source": [
    "## WQU with path compression\n",
    "\n",
    "We want to minimize tree depth, so the final step is reduce the tree size as you traverse it - path compression.\n",
    "\n",
    "When you examine a node, and it's parent is not the tree root, set the parent of the node to the root. Do the same thing for every node you touch.\n",
    "\n",
    "You could add a second loop which, for each node you look at, finds the root, and sets the parent to that. This is the _two pass implementation_\n",
    "\n",
    "The _one pass implementation_ is to just move the parent of a node to it's grandparent\n",
    "\n",
    "This is actually only one extra line of code:\n",
    "\n",
    "`self.parents[i] = self.parents[self.parents[i]]`"
   ]
  },
  {
   "cell_type": "code",
   "execution_count": 59,
   "metadata": {},
   "outputs": [
    {
     "name": "stdout",
     "output_type": "stream",
     "text": [
      "[0, 1, 2, 3, 4, 5, 6, 7, 8, 9]\n",
      "True\n",
      "False\n",
      "[0, 1, 3, 3, 3, 3, 5, 7, 8, 2]\n",
      "[1, 1, 2, 6, 1, 2, 1, 1, 1, 1]\n"
     ]
    }
   ],
   "source": [
    "class WeightedQuickUnion:\n",
    "    def __init__(self, n):\n",
    "        self.parents = [i for i in range(n)]\n",
    "        self.size = [1 for i in range(n)]\n",
    "        \n",
    "    def root(self, p):\n",
    "        i = self.parents[p]\n",
    "        \n",
    "        while i != self.parents[i]:\n",
    "            self.parents[i] = self.parents[self.parents[i]]\n",
    "            i = self.parents[i]\n",
    "            \n",
    "        return i\n",
    "        \n",
    "    def connected(self, p, q):\n",
    "        return self.root(p) == self.root(q)\n",
    "    \n",
    "    def union(self, p, q):\n",
    "        p_root = self.root(p)\n",
    "        q_root = self.root(q)\n",
    "        \n",
    "        if p_root == q_root:\n",
    "            pass\n",
    "        \n",
    "        if self.size[p_root] < self.size[q_root]:\n",
    "            self.parents[p_root] = q_root\n",
    "            self.size[q_root] += self.size[p_root]\n",
    "        else:\n",
    "            self.parents[q_root] = p_root\n",
    "            self.size[p_root] += self.size[q_root]\n",
    "        \n",
    "qu = WeightedQuickUnion(10)\n",
    "print(qu.parents)\n",
    "qu.union(2, 9)\n",
    "qu.union(3, 4)\n",
    "qu.union(4, 9)\n",
    "qu.union(5, 6)\n",
    "qu.union(9, 6)\n",
    "print(qu.connected(3, 2))\n",
    "print(qu.connected(6, 7))\n",
    "print(qu.parents)\n",
    "print(qu.size)"
   ]
  },
  {
   "cell_type": "markdown",
   "metadata": {},
   "source": [
    "A problem with _M_ union-find operations on _N_ objects will take:\n",
    "\n",
    "* quick-find: M N\n",
    "* quick-union: M N\n",
    "* wqu: N + M log N\n",
    "* qu + pc: N + M log N\n",
    "* wqu + pc: N + M lg* N\n",
    "\n",
    "lg* N is, in practice, linear time.\n",
    "\n",
    "The consequences of this are that an problem with 10^9 unions-find operations on 10^9 objects is reduced from 30 years to 6 seconds. A good illustration of where better algorithms will help, where more computing power won't"
   ]
  },
  {
   "cell_type": "code",
   "execution_count": null,
   "metadata": {},
   "outputs": [],
   "source": []
  }
 ],
 "metadata": {
  "kernelspec": {
   "display_name": "Python 3",
   "language": "python",
   "name": "python3"
  },
  "language_info": {
   "codemirror_mode": {
    "name": "ipython",
    "version": 3
   },
   "file_extension": ".py",
   "mimetype": "text/x-python",
   "name": "python",
   "nbconvert_exporter": "python",
   "pygments_lexer": "ipython3",
   "version": "3.6.9"
  }
 },
 "nbformat": 4,
 "nbformat_minor": 4
}
